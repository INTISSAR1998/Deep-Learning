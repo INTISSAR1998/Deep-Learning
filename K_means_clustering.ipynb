{
  "nbformat": 4,
  "nbformat_minor": 0,
  "metadata": {
    "kernelspec": {
      "display_name": "Python 3",
      "language": "python",
      "name": "python3"
    },
    "language_info": {
      "codemirror_mode": {
        "name": "ipython",
        "version": 3
      },
      "file_extension": ".py",
      "mimetype": "text/x-python",
      "name": "python",
      "nbconvert_exporter": "python",
      "pygments_lexer": "ipython3",
      "version": "3.6.5"
    },
    "colab": {
      "provenance": [],
      "toc_visible": true
    }
  },
  "cells": [
    {
      "cell_type": "markdown",
      "metadata": {
        "id": "Et48i_z7RPyq"
      },
      "source": [
        "# K Means Clustering"
      ]
    },
    {
      "cell_type": "markdown",
      "metadata": {
        "id": "-q0McnLERPyr"
      },
      "source": [
        "Steps involved in K Means Clustering\n",
        "1. Initialize two examples of the training data set as Centroids using Kmeans++ or random initialization\n",
        "2. Loop over the num of iterations to perform the clustering.\n",
        "   2.a. For each training example compute the euclidian distance from the centroid and assign the cluster\n",
        "   based on the minimal distance.\n",
        "   2.b Adjust the centroid of each cluster by taking the average of all the training examples which belonged \n",
        "   to that cluster on the basis of the computations performed in step 2.a"
      ]
    },
    {
      "cell_type": "code",
      "metadata": {
        "id": "7RN55mBqRPys"
      },
      "source": [
        "#import libraries\n",
        "import numpy as np\n",
        "import matplotlib.pyplot as plt\n",
        "import pandas as pd\n",
        "import random as rd"
      ],
      "execution_count": null,
      "outputs": []
    },
    {
      "cell_type": "code",
      "metadata": {
        "id": "9iOmZLGzRPyx"
      },
      "source": [
        "# -*- coding: utf-8 -*-\n",
        "\"\"\"\n",
        "Created on Wed Dec 12 16:35:06 2018\n",
        "\n",
        "@author: purandur\n",
        "\"\"\"\n",
        "import numpy as np\n",
        "import random as rd\n",
        "class Kmeans:\n",
        "    def __init__(self,X,K):\n",
        "        self.X=X\n",
        "        self.Output={}\n",
        "        self.Centroids=np.array([]).reshape(self.X.shape[1],0)\n",
        "        self.K=K\n",
        "        self.m=self.X.shape[0]\n",
        "        \n",
        "    def kmeanspp(self,X,K):\n",
        "        i=rd.randint(0,X.shape[0])\n",
        "        Centroid_temp=np.array([X[i]])\n",
        "        for k in range(1,K):\n",
        "            D=np.array([]) \n",
        "            for x in X:\n",
        "                D=np.append(D,np.min(np.sum((x-Centroid_temp)**2)))\n",
        "            prob=D/np.sum(D)\n",
        "            cummulative_prob=np.cumsum(prob)\n",
        "            r=rd.random()\n",
        "            i=0\n",
        "            for j,p in enumerate(cummulative_prob):\n",
        "                if r<p:\n",
        "                    i=j\n",
        "                    break\n",
        "            Centroid_temp=np.append(Centroid_temp,[X[i]],axis=0)\n",
        "        return Centroid_temp.T\n",
        "    \n",
        "    def fit(self,n_iter):\n",
        "        #randomly Initialize the centroids\n",
        "        self.Centroids=self.kmeanspp(self.X,self.K)\n",
        "        \n",
        "        \"\"\"for i in range(self.K):\n",
        "            rand=rd.randint(0,self.m-1)\n",
        "            self.Centroids=np.c_[self.Centroids,self.X[rand]]\"\"\"\n",
        "        \n",
        "        #compute euclidian distances and assign clusters\n",
        "        for n in range(n_iter):\n",
        "            EuclidianDistance=np.array([]).reshape(self.m,0)\n",
        "            for k in range(self.K):\n",
        "                tempDist=np.sum((self.X-self.Centroids[:,k])**2,axis=1)\n",
        "                EuclidianDistance=np.c_[EuclidianDistance,tempDist]\n",
        "            C=np.argmin(EuclidianDistance,axis=1)+1\n",
        "            #adjust the centroids\n",
        "            Y={}\n",
        "            for k in range(self.K):\n",
        "                Y[k+1]=np.array([]).reshape(2,0)\n",
        "            for i in range(self.m):\n",
        "                Y[C[i]]=np.c_[Y[C[i]],self.X[i]]\n",
        "        \n",
        "            for k in range(self.K):\n",
        "                Y[k+1]=Y[k+1].T\n",
        "            for k in range(self.K):\n",
        "                self.Centroids[:,k]=np.mean(Y[k+1],axis=0)\n",
        "                \n",
        "            self.Output=Y\n",
        "            \n",
        "    \n",
        "    def predict(self):\n",
        "        return self.Output,self.Centroids.T\n",
        "    \n",
        "    def WCSS(self):\n",
        "        wcss=0\n",
        "        for k in range(self.K):\n",
        "            wcss+=np.sum((self.Output[k+1]-self.Centroids[:,k])**2)\n",
        "        return wcss"
      ],
      "execution_count": null,
      "outputs": []
    },
    {
      "cell_type": "code",
      "metadata": {
        "id": "yNgI6SOGRPy0"
      },
      "source": [
        "dataset=pd.read_csv('Mall_Customers.csv')"
      ],
      "execution_count": null,
      "outputs": []
    },
    {
      "cell_type": "code",
      "metadata": {
        "id": "vVvzT2ZJRPy3"
      },
      "source": [
        "X = dataset.iloc[:, [3, 4]].values"
      ],
      "execution_count": null,
      "outputs": []
    },
    {
      "cell_type": "code",
      "metadata": {
        "id": "GpOE214uRPy6",
        "colab": {
          "base_uri": "https://localhost:8080/",
          "height": 297
        },
        "outputId": "016b8531-76a6-44ef-e4a7-ccae560b11e0"
      },
      "source": [
        "dataset.describe()"
      ],
      "execution_count": null,
      "outputs": [
        {
          "output_type": "execute_result",
          "data": {
            "text/html": [
              "<div>\n",
              "<style scoped>\n",
              "    .dataframe tbody tr th:only-of-type {\n",
              "        vertical-align: middle;\n",
              "    }\n",
              "\n",
              "    .dataframe tbody tr th {\n",
              "        vertical-align: top;\n",
              "    }\n",
              "\n",
              "    .dataframe thead th {\n",
              "        text-align: right;\n",
              "    }\n",
              "</style>\n",
              "<table border=\"1\" class=\"dataframe\">\n",
              "  <thead>\n",
              "    <tr style=\"text-align: right;\">\n",
              "      <th></th>\n",
              "      <th>CustomerID</th>\n",
              "      <th>Age</th>\n",
              "      <th>Annual Income (k$)</th>\n",
              "      <th>Spending Score (1-100)</th>\n",
              "    </tr>\n",
              "  </thead>\n",
              "  <tbody>\n",
              "    <tr>\n",
              "      <th>count</th>\n",
              "      <td>200.000000</td>\n",
              "      <td>200.000000</td>\n",
              "      <td>200.000000</td>\n",
              "      <td>200.000000</td>\n",
              "    </tr>\n",
              "    <tr>\n",
              "      <th>mean</th>\n",
              "      <td>100.500000</td>\n",
              "      <td>38.850000</td>\n",
              "      <td>60.560000</td>\n",
              "      <td>50.200000</td>\n",
              "    </tr>\n",
              "    <tr>\n",
              "      <th>std</th>\n",
              "      <td>57.879185</td>\n",
              "      <td>13.969007</td>\n",
              "      <td>26.264721</td>\n",
              "      <td>25.823522</td>\n",
              "    </tr>\n",
              "    <tr>\n",
              "      <th>min</th>\n",
              "      <td>1.000000</td>\n",
              "      <td>18.000000</td>\n",
              "      <td>15.000000</td>\n",
              "      <td>1.000000</td>\n",
              "    </tr>\n",
              "    <tr>\n",
              "      <th>25%</th>\n",
              "      <td>50.750000</td>\n",
              "      <td>28.750000</td>\n",
              "      <td>41.500000</td>\n",
              "      <td>34.750000</td>\n",
              "    </tr>\n",
              "    <tr>\n",
              "      <th>50%</th>\n",
              "      <td>100.500000</td>\n",
              "      <td>36.000000</td>\n",
              "      <td>61.500000</td>\n",
              "      <td>50.000000</td>\n",
              "    </tr>\n",
              "    <tr>\n",
              "      <th>75%</th>\n",
              "      <td>150.250000</td>\n",
              "      <td>49.000000</td>\n",
              "      <td>78.000000</td>\n",
              "      <td>73.000000</td>\n",
              "    </tr>\n",
              "    <tr>\n",
              "      <th>max</th>\n",
              "      <td>200.000000</td>\n",
              "      <td>70.000000</td>\n",
              "      <td>137.000000</td>\n",
              "      <td>99.000000</td>\n",
              "    </tr>\n",
              "  </tbody>\n",
              "</table>\n",
              "</div>"
            ],
            "text/plain": [
              "       CustomerID         Age  Annual Income (k$)  Spending Score (1-100)\n",
              "count  200.000000  200.000000          200.000000              200.000000\n",
              "mean   100.500000   38.850000           60.560000               50.200000\n",
              "std     57.879185   13.969007           26.264721               25.823522\n",
              "min      1.000000   18.000000           15.000000                1.000000\n",
              "25%     50.750000   28.750000           41.500000               34.750000\n",
              "50%    100.500000   36.000000           61.500000               50.000000\n",
              "75%    150.250000   49.000000           78.000000               73.000000\n",
              "max    200.000000   70.000000          137.000000               99.000000"
            ]
          },
          "metadata": {
            "tags": []
          },
          "execution_count": 6
        }
      ]
    },
    {
      "cell_type": "code",
      "metadata": {
        "id": "6Wm2q7IARPy-"
      },
      "source": [
        "m=X.shape[0]\n",
        "n_iter=100"
      ],
      "execution_count": null,
      "outputs": []
    },
    {
      "cell_type": "code",
      "metadata": {
        "id": "eRZsnL6vRPzB"
      },
      "source": [
        "from Kmeans import Kmeans"
      ],
      "execution_count": null,
      "outputs": []
    },
    {
      "cell_type": "code",
      "metadata": {
        "id": "Hhk-GajyRPzF",
        "colab": {
          "base_uri": "https://localhost:8080/",
          "height": 109
        },
        "outputId": "04762333-382d-4103-96c6-e30528edb621"
      },
      "source": [
        "#to find optimum number of clusters use elbow method\n",
        "WCSS_array=np.array([])\n",
        "for K in range(1,11):\n",
        "    kmeans=Kmeans(X,K)\n",
        "    kmeans.fit(n_iter)\n",
        "    Output,Centroids=kmeans.predict()\n",
        "    wcss=0\n",
        "    for k in range(K):\n",
        "        wcss+=np.sum((Output[k+1]-Centroids[k,:])**2)\n",
        "    #WCSS_array=np.append(WCSS_array,kmeans.WCSS())\n",
        "    WCSS_array=np.append(WCSS_array,wcss)"
      ],
      "execution_count": null,
      "outputs": [
        {
          "output_type": "stream",
          "text": [
            "/usr/local/lib/python3.6/dist-packages/numpy/core/fromnumeric.py:3335: RuntimeWarning: Mean of empty slice.\n",
            "  out=out, **kwargs)\n",
            "/usr/local/lib/python3.6/dist-packages/numpy/core/_methods.py:154: RuntimeWarning: invalid value encountered in true_divide\n",
            "  ret, rcount, out=ret, casting='unsafe', subok=False)\n"
          ],
          "name": "stderr"
        }
      ]
    },
    {
      "cell_type": "code",
      "metadata": {
        "id": "bNhexrN1RPzI",
        "colab": {
          "base_uri": "https://localhost:8080/",
          "height": 295
        },
        "outputId": "dde9e912-64dc-4f1a-dbad-99d8bf6ceb90"
      },
      "source": [
        "K_array=np.arange(1,11,1)\n",
        "plt.plot(K_array,WCSS_array)\n",
        "plt.xlabel('Number of Clusters')\n",
        "plt.ylabel('within-cluster sums of squares (WCSS)')\n",
        "plt.title('Elbow method to determine optimum number of clusters')\n",
        "plt.show()"
      ],
      "execution_count": null,
      "outputs": [
        {
          "output_type": "display_data",
          "data": {
            "image/png": "[encoded data removed]",
            "text/plain": [
              "<Figure size 432x288 with 1 Axes>"
            ]
          },
          "metadata": {
            "tags": [],
            "needs_background": "light"
          }
        }
      ]
    },
    {
      "cell_type": "markdown",
      "metadata": {
        "id": "lCVd-RObRPzL"
      },
      "source": [
        "The idea is that we want a small WCSS, but that the WCSS tends to decrease toward 0 as we increase k (the WCSS is 0 when k is equal to the number of data points in the dataset, because then each data point is its own cluster, and there is no error between it and the center of its cluster). So our goal is to choose a small value of k that still has a low WCSS, and the elbow usually represents where we start to have diminishing returns by increasing k."
      ]
    },
    {
      "cell_type": "code",
      "metadata": {
        "id": "Vq18jOrtRPzL"
      },
      "source": [
        "#based on these observations we choose 5 as optimum number of clusters\n",
        "K=5"
      ],
      "execution_count": null,
      "outputs": []
    },
    {
      "cell_type": "code",
      "metadata": {
        "id": "w8_qpZmmRPzO"
      },
      "source": [
        "kmeans=Kmeans(X,K)\n",
        "kmeans.fit(n_iter)\n",
        "Output,Centroids=kmeans.predict()"
      ],
      "execution_count": null,
      "outputs": []
    },
    {
      "cell_type": "code",
      "metadata": {
        "id": "hkdHiXLBRPzS",
        "colab": {
          "base_uri": "https://localhost:8080/",
          "height": 295
        },
        "outputId": "cc3fd7fb-91f4-4d36-eb28-774472299f4c"
      },
      "source": [
        "color=['red','blue','green','cyan','magenta']\n",
        "labels=['cluster1','cluster2','cluster3','cluster4','cluster5']\n",
        "for k in range(K):\n",
        "    plt.scatter(Output[k+1][:,0],Output[k+1][:,1],c=color[k],label=labels[k])\n",
        "plt.scatter(Centroids[:,0],Centroids[:,1],s=300,c='yellow',label='Centroids')\n",
        "plt.title('Clusters of customers')\n",
        "plt.xlabel('Annual Income (k$)')\n",
        "plt.ylabel('Spending Score (1-100)')\n",
        "plt.legend()\n",
        "plt.show()"
      ],
      "execution_count": null,
      "outputs": [
        {
          "output_type": "display_data",
          "data": {
            "image/png": "[encoded data removed]",
            "text/plain": [
              "<Figure size 432x288 with 1 Axes>"
            ]
          },
          "metadata": {
            "tags": [],
            "needs_background": "light"
          }
        }
      ]
    },
    {
      "cell_type": "code",
      "metadata": {
        "id": "fcAbMR0zRPzV",
        "colab": {
          "base_uri": "https://localhost:8080/",
          "height": 295
        },
        "outputId": "b847eaac-1ffa-4c74-da1b-95439cfe728f"
      },
      "source": [
        "#lets implement the same algorithm using sklearn libraries\n",
        "# Using the elbow method to find the optimal number of clusters\n",
        "from sklearn.cluster import KMeans\n",
        "wcss = []\n",
        "for i in range(1, 11):\n",
        "    kmeans = KMeans(n_clusters = i, init = 'k-means++', random_state = 42)\n",
        "    kmeans.fit(X)\n",
        "    wcss.append(kmeans.inertia_)\n",
        "plt.plot(range(1, 11), wcss)\n",
        "plt.title('The Elbow Method')\n",
        "plt.xlabel('Number of clusters')\n",
        "plt.ylabel('WCSS')\n",
        "plt.show()"
      ],
      "execution_count": null,
      "outputs": [
        {
          "output_type": "display_data",
          "data": {
            "image/png": "[encoded data removed]",
            "text/plain": [
              "<Figure size 432x288 with 1 Axes>"
            ]
          },
          "metadata": {
            "tags": [],
            "needs_background": "light"
          }
        }
      ]
    },
    {
      "cell_type": "code",
      "metadata": {
        "id": "MIlziiOoRPzX"
      },
      "source": [
        "# Fitting K-Means to the dataset\n",
        "kmeans = KMeans(n_clusters = 5, init = 'k-means++', random_state = 42)\n",
        "y_kmeans = kmeans.fit_predict(X)"
      ],
      "execution_count": null,
      "outputs": []
    },
    {
      "cell_type": "code",
      "metadata": {
        "id": "Q71Dk0eURPza",
        "colab": {
          "base_uri": "https://localhost:8080/",
          "height": 295
        },
        "outputId": "95608547-5ee8-4a2c-b88e-e5350b7b7a95"
      },
      "source": [
        "# Visualising the clusters\n",
        "plt.scatter(X[y_kmeans == 0, 0], X[y_kmeans == 0, 1], s = 100, c = 'red', label = 'Cluster 1')\n",
        "plt.scatter(X[y_kmeans == 1, 0], X[y_kmeans == 1, 1], s = 100, c = 'blue', label = 'Cluster 2')\n",
        "plt.scatter(X[y_kmeans == 2, 0], X[y_kmeans == 2, 1], s = 100, c = 'green', label = 'Cluster 3')\n",
        "plt.scatter(X[y_kmeans == 3, 0], X[y_kmeans == 3, 1], s = 100, c = 'cyan', label = 'Cluster 4')\n",
        "plt.scatter(X[y_kmeans == 4, 0], X[y_kmeans == 4, 1], s = 100, c = 'magenta', label = 'Cluster 5')\n",
        "plt.scatter(kmeans.cluster_centers_[:, 0], kmeans.cluster_centers_[:, 1], s = 300, c = 'yellow', label = 'Centroids')\n",
        "plt.title('Clusters of customers')\n",
        "plt.xlabel('Annual Income (k$)')\n",
        "plt.ylabel('Spending Score (1-100)')\n",
        "plt.legend()\n",
        "plt.show()"
      ],
      "execution_count": null,
      "outputs": [
        {
          "output_type": "display_data",
          "data": {
            "image/png": "[encoded data removed]",
            "text/plain": [
              "<Figure size 432x288 with 1 Axes>"
            ]
          },
          "metadata": {
            "tags": [],
            "needs_background": "light"
          }
        }
      ]
    }
  ]
}